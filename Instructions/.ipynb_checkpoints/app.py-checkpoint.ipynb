{
 "cells": [
  {
   "cell_type": "code",
   "execution_count": 33,
   "id": "f065fe40",
   "metadata": {},
   "outputs": [],
   "source": [
    "import numpy as np\n",
    "import sqlalchemy\n",
    "from sqlalchemy.ext.automap import automap_base\n",
    "from sqlalchemy.orm import Session\n",
    "from sqlalchemy import create_engine, func, distinct\n",
    "from flask import Flask, jsonify"
   ]
  },
  {
   "cell_type": "code",
   "execution_count": 34,
   "id": "bf74361d",
   "metadata": {},
   "outputs": [],
   "source": [
    "import datetime as dt"
   ]
  },
  {
   "cell_type": "code",
   "execution_count": 35,
   "id": "e1ff3109",
   "metadata": {},
   "outputs": [],
   "source": [
    "# set up a database\n",
    "\n",
    "engine = create_engine(\"sqlite:///Resources/hawaii.sqlite\")\n",
    "base = automap_base()\n",
    "base.prepare(engine, reflect=True)"
   ]
  },
  {
   "cell_type": "code",
   "execution_count": 36,
   "id": "66b26cd9",
   "metadata": {},
   "outputs": [],
   "source": [
    "Measurement = base.classes.measurement\n",
    "Station = base.classes.station"
   ]
  },
  {
   "cell_type": "code",
   "execution_count": 37,
   "id": "8fdfab71",
   "metadata": {},
   "outputs": [],
   "source": [
    "# flask\n",
    "app = Flask(__name__)\n"
   ]
  },
  {
   "cell_type": "code",
   "execution_count": 38,
   "id": "7322e7b0",
   "metadata": {},
   "outputs": [],
   "source": [
    "@app.route('/')\n",
    "def welcome():\n",
    "    \"\"\"List all available api routes\"\"\"\n",
    "    return (\n",
    "        f\"Hey, Hi, Hello Here are the Avaiable Routes:<br/>\"\n",
    "        f\"Precipitation: /api/v1.0/precipitation<br/>\"\n",
    "        f\"Station List: /api/v1.0/stations<br/>\"\n",
    "        f\"One Year Temperature at a Glance: /api/v1.0/tobs<br/>\"\n",
    "        f\"Start date Temperature(yyyy-mm-dd): /api/v1.0/yyyy-mm-dd<br/>\"\n",
    "        f\"Start to End date Temperature(yyyy-mm-dd): /api/v1.0/yyyy-mm-dd/yyyy-mm-dd\"\n",
    "    )"
   ]
  },
  {
   "cell_type": "code",
   "execution_count": 39,
   "id": "16c48e81",
   "metadata": {
    "scrolled": true
   },
   "outputs": [],
   "source": [
    "@app.route(\"/api/v1.0/precipitation\")\n",
    "def precipitation():\n",
    "# session link\n",
    "    session = Session(engine)\n",
    "\n",
    "    \"\"\"list of all precipitation\"\"\"\n",
    "    \n",
    "    day_one = '2016-08-24'\n",
    "    \n",
    "    Precipitation = session.query(Measurement.date, Measurement.prcp).all()\n",
    "        \n",
    "\n",
    "    \n",
    "    session.close()"
   ]
  },
  {
   "cell_type": "code",
   "execution_count": null,
   "id": "201c1af9",
   "metadata": {},
   "outputs": [],
   "source": []
  },
  {
   "cell_type": "code",
   "execution_count": 43,
   "id": "3da6e390",
   "metadata": {
    "collapsed": true
   },
   "outputs": [
    {
     "ename": "TypeError",
     "evalue": "'function' object is not iterable",
     "output_type": "error",
     "traceback": [
      "\u001b[1;31m---------------------------------------------------------------------------\u001b[0m",
      "\u001b[1;31mTypeError\u001b[0m                                 Traceback (most recent call last)",
      "Input \u001b[1;32mIn [43]\u001b[0m, in \u001b[0;36m<cell line: 5>\u001b[1;34m()\u001b[0m\n\u001b[0;32m      1\u001b[0m \u001b[38;5;66;03m# convert to dictionary\u001b[39;00m\n\u001b[0;32m      3\u001b[0m all_precipitation \u001b[38;5;241m=\u001b[39m []\n\u001b[1;32m----> 5\u001b[0m \u001b[38;5;28;01mfor\u001b[39;00m prcp \u001b[38;5;129;01min\u001b[39;00m precipitation:\n\u001b[0;32m      6\u001b[0m     precipitation_dict \u001b[38;5;241m=\u001b[39m {}\n\u001b[0;32m      7\u001b[0m     precipitation_dict[prcp[\u001b[38;5;241m0\u001b[39m]] \u001b[38;5;241m=\u001b[39m prcp[\u001b[38;5;241m1\u001b[39m]\n",
      "\u001b[1;31mTypeError\u001b[0m: 'function' object is not iterable"
     ]
    }
   ],
   "source": [
    "# convert to dictionary\n",
    "\n",
    "all_precipitation = []\n",
    "    \n",
    "for prcp in precipitation:\n",
    "    precipitation_dict = {}\n",
    "    precipitation_dict[prcp[0]] = prcp[1]\n",
    "    all_precipitation.append(precipitation_dict)\n",
    "\n",
    "return jsonify(all_precipitation)"
   ]
  },
  {
   "cell_type": "code",
   "execution_count": 44,
   "id": "14d4a5b5",
   "metadata": {},
   "outputs": [],
   "source": [
    "@app.route(\"/api/v1.0/stations\")\n",
    "def stations():\n",
    "    session = Session(engine)\n",
    "    \n",
    "    \"\"\"List of active stations\"\"\"\n",
    "    sel = [measurement.station]\n",
    "    active_stations = session.query(*sel).\\\n",
    "        group_by(measurement.station).all()\n",
    "    session.close()\n",
    "    \n",
    "    station_list = list(np.ravel(active_stations))\n",
    "    return jsonify(station_list)"
   ]
  },
  {
   "cell_type": "code",
   "execution_count": 45,
   "id": "bc2a9cd8",
   "metadata": {},
   "outputs": [],
   "source": [
    "@app.route(\"/api/v1.0/tobs\")\n",
    "def tobs():\n",
    "    session = Session(engine)\n",
    "    \n",
    "    day_one = '2016-08-23'\n",
    "    sel = [measurement.date,\n",
    "        measurement.tobs]\n",
    "    \n",
    "    temperatures = session.query(*sel).\\\n",
    "        filter(measurement.date >= day_one, measurement.station == 'USC00519281')\n",
    "    group_by(measurement.date).\\\n",
    "    order_by(measurement.date).all()\n",
    "        \n",
    "    session.close()"
   ]
  },
  {
   "cell_type": "code",
   "execution_count": 46,
   "id": "73b2f0e6",
   "metadata": {},
   "outputs": [
    {
     "ename": "NameError",
     "evalue": "name 'temperatures' is not defined",
     "output_type": "error",
     "traceback": [
      "\u001b[1;31m---------------------------------------------------------------------------\u001b[0m",
      "\u001b[1;31mNameError\u001b[0m                                 Traceback (most recent call last)",
      "Input \u001b[1;32mIn [46]\u001b[0m, in \u001b[0;36m<cell line: 5>\u001b[1;34m()\u001b[0m\n\u001b[0;32m      2\u001b[0m dates_observed \u001b[38;5;241m=\u001b[39m []\n\u001b[0;32m      3\u001b[0m observed_temperatures \u001b[38;5;241m=\u001b[39m []\n\u001b[1;32m----> 5\u001b[0m \u001b[38;5;28;01mfor\u001b[39;00m date, observation \u001b[38;5;129;01min\u001b[39;00m \u001b[43mtemperatures\u001b[49m:\n\u001b[0;32m      6\u001b[0m     dates_observed\u001b[38;5;241m.\u001b[39mappend(date)\n\u001b[0;32m      7\u001b[0m     observed_temperatures\u001b[38;5;241m.\u001b[39mappend(observation)\n",
      "\u001b[1;31mNameError\u001b[0m: name 'temperatures' is not defined"
     ]
    }
   ],
   "source": [
    "# convert to dictionary\n",
    "dates_observed = []\n",
    "observed_temperatures = []\n",
    "\n",
    "for date, observation in temperatures:\n",
    "    dates_observed.append(date)\n",
    "    observed_temperatures.append(observation)\n",
    "    \n",
    "active_tobs_dictionary = dict(zip(dates_observed, observed_temperatures))\n",
    "\n",
    "return jsonify(active_tobs_dictionary)"
   ]
  },
  {
   "cell_type": "code",
   "execution_count": null,
   "id": "e7bb642f",
   "metadata": {},
   "outputs": [],
   "source": [
    "@app.route(\"/api/v1.0//<day_one>\")\n",
    "def first_day(day_one, last_day='2017-08-23'):\n",
    "    \n",
    "    session = Session(engine)\n",
    "    results = session.query(func.min(measurement.tobs), func.avg(measurement.tobs), func.max(measurement.tobs)).\\\n",
    "        filter(measurement.date >= day_one).filter(measurement.date <= last_day).all()\n",
    "    session.close()"
   ]
  },
  {
   "cell_type": "code",
   "execution_count": null,
   "id": "58223d58",
   "metadata": {},
   "outputs": [],
   "source": [
    "start_day_record = []\n",
    "for min, avg, max in results:\n",
    "    start_day_dict = {}\n",
    "    start_day_dict = [\"Min_temp\"] = min\n",
    "    start_day_dict = [\"Avg_temp\"] = avg\n",
    "    start_day_dict = [\"Max_temp\"] = max\n",
    "    start_day_record.append(start_day_dict)\n",
    "return jsonify(start_day_record)\n"
   ]
  },
  {
   "cell_type": "code",
   "execution_count": null,
   "id": "8e2869f8",
   "metadata": {},
   "outputs": [],
   "source": [
    "@app.route('/api/v1.0/<day_one>/<last_day>')\n",
    "def last_day(day_one, last_day='2017-08-23'):\n",
    "    \n",
    "    session = Session(engine)\n",
    "    results = session.query(func.min(measurement.tobs), func.avg(measurement.tobs), func.max(measurement.tobs)).\\\n",
    "        filter(measurement.date >= day_one).filter(measurement.date <= last_day).all()\n",
    "    session.close()\n",
    "    \n",
    "    "
   ]
  },
  {
   "cell_type": "code",
   "execution_count": null,
   "id": "2d376b76",
   "metadata": {},
   "outputs": [],
   "source": [
    "last_day_record = []\n",
    "for min, avg, max in results:\n",
    "    last_day_dict = {}\n",
    "    last_day_dict = [\"Min_temp\"] = min\n",
    "    last_day_dict = [\"Avg_temp\"] = avg\n",
    "    last_day_dict = [\"Max_temp\"] = max\n",
    "    last_day_record.append(last_day_dict)\n",
    "return jsonify(last_day_record)"
   ]
  },
  {
   "cell_type": "code",
   "execution_count": null,
   "id": "e945a5d4",
   "metadata": {},
   "outputs": [],
   "source": [
    "if __name__ == \"__main__\":\n",
    "    app.run(debug=True)"
   ]
  }
 ],
 "metadata": {
  "kernelspec": {
   "display_name": "Python 3 (ipykernel)",
   "language": "python",
   "name": "python3"
  },
  "language_info": {
   "codemirror_mode": {
    "name": "ipython",
    "version": 3
   },
   "file_extension": ".py",
   "mimetype": "text/x-python",
   "name": "python",
   "nbconvert_exporter": "python",
   "pygments_lexer": "ipython3",
   "version": "3.9.12"
  }
 },
 "nbformat": 4,
 "nbformat_minor": 5
}
